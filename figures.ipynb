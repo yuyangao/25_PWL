{
 "cells": [
  {
   "cell_type": "code",
   "execution_count": null,
   "metadata": {},
   "outputs": [],
   "source": [
    "import os\n",
    "import pandas as pd\n",
    "import pingouin as pg\n",
    "import numpy as np\n",
    "import seaborn as sns\n",
    "import matplotlib.pyplot as plt\n",
    "from tools.fit_bms import *\n",
    "from tools.draw import *\n",
    "from tools.model_color import *\n",
    "from sklearn.preprocessing import StandardScaler\n",
    "from scipy.stats import shapiro, kruskal\n",
    "from scipy.special import expit\n"
   ]
  },
  {
   "cell_type": "markdown",
   "metadata": {},
   "source": [
    "    * 性别：1男，2女\n",
    "    * 类型：1普通，2吸烟\n",
    "    * 背景：1中性，2厌恶"
   ]
  },
  {
   "cell_type": "code",
   "execution_count": null,
   "metadata": {},
   "outputs": [],
   "source": [
    "data = pd.read_excel('datum\\map_data.xlsx')"
   ]
  },
  {
   "cell_type": "markdown",
   "metadata": {},
   "source": [
    "##### age/sex/number of each group"
   ]
  },
  {
   "cell_type": "code",
   "execution_count": null,
   "metadata": {},
   "outputs": [],
   "source": [
    "filtered_data  = data[(data['type'] == 2) & (data['background'] ==2)]\n",
    "var = filtered_data['smoke_quantify']\n",
    "(var != 'nan').sum()\n",
    "print((np.mean(var)).round(2),(np.std(var)).round(2))"
   ]
  },
  {
   "cell_type": "markdown",
   "metadata": {},
   "source": [
    "##### Figure 2A craving increase"
   ]
  },
  {
   "cell_type": "code",
   "execution_count": null,
   "metadata": {},
   "outputs": [],
   "source": [
    "## prepare dataframe\n",
    "score = pd.concat((data['pre'], data['ing']))\n",
    "raw_group = np.tile(data['type'], 2)\n",
    "group = ['ND' if raw_group[t] == 2 else 'HC' for t in range(len(raw_group))]\n",
    "time = ['before']*len(data) + ['after']*len(data)\n",
    "subject = ([f'subject{i}' for i in range(1, len(data)+1)]) * 2\n",
    "new_df = pd.DataFrame({'value':score, 'group':group, 'time':time, 'subject':subject})\n"
   ]
  },
  {
   "cell_type": "code",
   "execution_count": null,
   "metadata": {},
   "outputs": [],
   "source": [
    "fig, ax = plt.subplots(figsize=(2, 1.8), dpi=300)\n",
    "font = {'family': 'Arial', 'weight': 'regular'}\n",
    "plt.rc('font', **font)\n",
    "color = {'before': '#c1bdb1', 'after': '#3e5751'}\n",
    "y_name = 'craving score'\n",
    " \n",
    "violin(ax, data = new_df, x = 'group', y = 'value',\n",
    "       hue = 'time', order = ['HC', 'ND'], \n",
    "       hue_order = ['before', 'after'], palette = color)\n",
    "ax.get_legend().remove()\n",
    "basic_format(ax, '', f'{y_name}')\n",
    "plt.show()"
   ]
  },
  {
   "cell_type": "markdown",
   "metadata": {},
   "source": [
    "##### Figure 2B-C craving"
   ]
  },
  {
   "cell_type": "code",
   "execution_count": null,
   "metadata": {},
   "outputs": [],
   "source": [
    "## prepare dataframe\n",
    "filtered_data = data[data['type'] == 2]\n",
    "\n",
    "score = pd.concat((filtered_data['ing'], filtered_data['post']))\n",
    "\n",
    "raw_group = np.tile(filtered_data['background'], 2)\n",
    "group = ['neutral' if raw_group[t] == 1 else 'aversive' for t in range(len(raw_group))]\n",
    "time = ['before']*len(filtered_data) + ['after']*len(filtered_data)\n",
    "subject = ([f'subject{i}' for i in range(1, len(filtered_data)+1)]) * 2\n",
    "new_df = pd.DataFrame({'value':score, 'group':group, 'time':time, 'subject':subject})\n",
    "new_df"
   ]
  },
  {
   "cell_type": "code",
   "execution_count": null,
   "metadata": {},
   "outputs": [],
   "source": [
    "fig, ax = plt.subplots(figsize=(2, 1.8), dpi=300)\n",
    "font = {'family': 'Arial', 'weight': 'regular'}\n",
    "plt.rc('font', **font)\n",
    "color = {'before': '#c1bdb1', 'after': '#3e5751'}\n",
    "y_name = 'craving score'\n",
    " \n",
    "violin(ax, data = new_df, x = 'group', y = 'value',\n",
    "       hue = 'time', order = ['neutral', 'aversive'], \n",
    "       hue_order = ['before', 'after'], palette = color)\n",
    "ax.get_legend().remove()\n",
    "\n",
    "basic_format(ax, '', f'{y_name}')\n",
    "path = 'new_fig'\n",
    "os.makedirs(path, exist_ok = True)\n",
    "# plt.savefig(f'{path}/craving_HC.svg', transparent = True, format = 'svg')\n",
    "plt.show()\n"
   ]
  },
  {
   "cell_type": "markdown",
   "metadata": {},
   "source": [
    "##### Figure 3 emotion /best_choice(induce)"
   ]
  },
  {
   "cell_type": "code",
   "execution_count": null,
   "metadata": {},
   "outputs": [],
   "source": [
    "## prepare dataframe\n",
    "param = 'best choice rate_rew'\n",
    "score = (data[param])\n",
    "raw_group = data['type']\n",
    "group = ['ND' if raw_group[t] == 2 else 'HC' for t in range(len(raw_group))]\n",
    "raw_time = data['background']\n",
    "time =  ['aversive' if raw_time[t] == 2 else 'neutral' for t in range(len(raw_time))]\n",
    "subject = ([f'subject{i}' for i in range(1, len(data)+1)])\n",
    "new_df = pd.DataFrame({'value':score, 'group':group, 'time':time, 'subject':subject})"
   ]
  },
  {
   "cell_type": "code",
   "execution_count": null,
   "metadata": {},
   "outputs": [],
   "source": [
    "fig, ax = plt.subplots(figsize=(2, 1.8), dpi=300)\n",
    "font = {'family': 'Arial', 'weight': 'regular'}\n",
    "plt.rc('font', **font)\n",
    "color = {'neutral': [23/255, 66/255, 99/255], 'aversive':  [215/255, 87/255, 40/255]}\n",
    "y_name = param\n",
    " \n",
    "violin(ax, data = new_df, x = 'group', y = 'value',\n",
    "       hue = 'time', order = ['HC', 'ND'], \n",
    "       hue_order = ['neutral', 'aversive'], palette = color)\n",
    "ax.get_legend().remove()\n",
    "basic_format(ax, '', f'{y_name}')\n",
    "# plt.yticks([-3, -1.5, 0])\n",
    "pth = 'new_fig'\n",
    "os.makedirs(pth, exist_ok = True)\n",
    "# plt.savefig(f'{pth}/best_choice_rew.svg', transparent = True, format = 'svg')\n",
    "plt.show()"
   ]
  },
  {
   "cell_type": "markdown",
   "metadata": {},
   "source": [
    "##### Figure 4 stay probability"
   ]
  },
  {
   "cell_type": "code",
   "execution_count": null,
   "metadata": {},
   "outputs": [],
   "source": [
    "filtered_data  = data[(data['type'] == 2) & (data['background'] == 1)]\n",
    "ifreward = ['punished'] * len(filtered_data) * 2 + ['unpunished'] * len(filtered_data) * 2\n",
    "ifcommon = (['common'] * len(filtered_data) + ['rare'] * len(filtered_data)) * 2\n",
    "subject = [f'subject{i}' for i in range(1, len(filtered_data) + 1)] * 4\n",
    "stay_prob = pd.concat([filtered_data['common punished'], filtered_data['rare punished'], filtered_data['common unpunished'], filtered_data['rare unpunished']], axis=0)\n",
    "\n",
    "new_df = pd.DataFrame({'reward': ifreward, 'transition': ifcommon, 'stay_prob': stay_prob, 'subject': subject})"
   ]
  },
  {
   "cell_type": "code",
   "execution_count": null,
   "metadata": {},
   "outputs": [],
   "source": [
    "groups = ['ND','HC']\n",
    "valences = ['pun','rew']\n",
    "backgrounds = ['neg','neu']\n",
    "for group in groups:\n",
    "       for valence in valences:\n",
    "              for background in backgrounds:\n",
    "                     new_df = pd.read_csv(fr'stay_prob\\{group}_{background}_{valence}.csv')\n",
    "\n",
    "                     param = 'stay probability'\n",
    "                     fig, ax = plt.subplots(figsize=(2, 1.8), dpi=300)\n",
    "                     font = {'family': 'Arial', 'weight': 'regular'}\n",
    "                     plt.rc('font', **font)\n",
    "                     color = {'common': [23/255, 66/255, 99/255], 'rare':  [215/255, 87/255, 40/255]}\n",
    "                     y_name = param\n",
    "                     order = ['reward', 'unrewarded'] if valence == 'rew' else ['unpunished','punished']\n",
    "\n",
    "                     violin(ax, data = new_df, x = 'reward', y = 'stay_prob',\n",
    "                            hue = 'transition', order = order, \n",
    "                            hue_order = ['common', 'rare'], palette = color)\n",
    "\n",
    "                     sns.barplot(ax=ax, data=new_df, x='reward', y='stay_prob',\n",
    "                            hue='transition', order=order,\n",
    "                            hue_order=['common', 'rare'], palette=color,\n",
    "                            alpha=0.3, edgecolor='black', ci=None)\n",
    "                     plt.ylim((0,1))\n",
    "                     ax.get_legend().remove()\n",
    "                     basic_format(ax, '', f'{y_name}')\n",
    "                     # plt.yticks([-4, -2,  0])\n",
    "                     # plt.savefig(fr'stay_prob/figs/stay_{group}_{background}_{valence}.svg', transparent = True, format = 'svg')\n",
    "                     plt.show()"
   ]
  },
  {
   "cell_type": "markdown",
   "metadata": {},
   "source": [
    "##### Figure 5 w in HC/ND"
   ]
  },
  {
   "cell_type": "code",
   "execution_count": null,
   "metadata": {},
   "outputs": [],
   "source": [
    "# Ensure proper indexing with .iloc\n",
    "param = 'w'\n",
    "use_name = 'HC'\n",
    "use_value = 1 if use_name == 'HC' else 2\n",
    "filtered_data = data[data['type'] == use_value]\n",
    "score = (pd.concat((filtered_data[f'{param}_rew'], filtered_data[f'{param}_pun'])))\n",
    "raw_group = filtered_data['background']\n",
    "\n",
    "# Using .iloc to access by position and fixing group assignment\n",
    "group = ['aversive' if raw_group.iloc[t] == 2 else 'neutral' for t in range(len(filtered_data))] * 2\n",
    "\n",
    "# Ensure 'time' and 'subject' lists are of appropriate length\n",
    "time = ['reward'] * len(filtered_data) + ['punishment'] * len(filtered_data)\n",
    "subject = [f'subject{i}' for i in range(1, len(filtered_data) + 1)] * 2\n",
    "\n",
    "new_df = pd.DataFrame({'value': score, 'group': group, 'time': time, 'subject': subject})"
   ]
  },
  {
   "cell_type": "code",
   "execution_count": null,
   "metadata": {},
   "outputs": [],
   "source": [
    "fig, ax = plt.subplots(figsize=(2, 1.8), dpi=300)\n",
    "font = {'family': 'Arial', 'weight': 'regular'}\n",
    "plt.rc('font', **font)\n",
    "color = {'neutral': [23/255, 66/255, 99/255], 'aversive':  [215/255, 87/255, 40/255]}\n",
    "y_name = param\n",
    "\n",
    "violin(ax, data = new_df, x = 'time', y = 'value',\n",
    "       hue = 'group', order = ['reward', 'punishment'], \n",
    "       hue_order = ['neutral', 'aversive'], palette = color)\n",
    "ax.get_legend().remove()\n",
    "basic_format(ax, '', f'{y_name}')\n",
    "# plt.yticks([-4, -2,  0])\n",
    "path = f'new_fig'\n",
    "# plt.savefig(f'{path}/w_HC.svg', transparent = True, format = 'svg')\n",
    "plt.show()"
   ]
  },
  {
   "cell_type": "markdown",
   "metadata": {},
   "source": [
    "##### Figure 6 correlation"
   ]
  },
  {
   "cell_type": "code",
   "execution_count": null,
   "metadata": {},
   "outputs": [],
   "source": [
    "## prepare dataframe\n",
    "## smoke_quantify, smoke_year\n",
    "filtered_data = data[(data['background'] == 2) & (data['type'] == 2)]\n",
    "y = (filtered_data['w_rew'])\n",
    "x = filtered_data['smoke_year']# ['smoke_quantify']\n",
    "\n",
    "pg.corr(x, y, alternative='two-sided', method='pearson')"
   ]
  },
  {
   "cell_type": "code",
   "execution_count": null,
   "metadata": {},
   "outputs": [],
   "source": [
    "fig, ax = plt.subplots(figsize = (2, 1.5), dpi = 300)\n",
    "sns.regplot(\n",
    "            x=x, y=y, color=\"indianred\",\n",
    "            line_kws={'color': 'indianred', 'alpha': 0.3, 'zorder': 1},\n",
    "            scatter_kws={'zorder': 1} \n",
    "            )\n",
    "basic_format(ax, 'Cigarettes per day',r'w')\n",
    "# plt.savefig(r'new_fig\\w_corr.svg', transparent = True, format = 'svg')"
   ]
  },
  {
   "cell_type": "markdown",
   "metadata": {},
   "source": [
    "#### parameter recovery"
   ]
  },
  {
   "cell_type": "code",
   "execution_count": null,
   "metadata": {},
   "outputs": [],
   "source": [
    "# load datum\n",
    "real_data = pd.read_csv(r'param_rev\\true_parameters.csv') #, skiprows = range(1, 800) \n",
    "recov_data = pd.read_csv(r'param_rev\\param_recov.csv')"
   ]
  },
  {
   "cell_type": "code",
   "execution_count": null,
   "metadata": {},
   "outputs": [],
   "source": [
    "# do correlation\n",
    "vars = ['beta1', 'beta2', 'alpha1', 'alpha2', 'lambda', 'p', 'w']\n",
    "for varname in vars:\n",
    "    y = recov_data[varname]\n",
    "    x = real_data[varname]\n",
    "\n",
    "    res = pg.corr(x, y, alternative='two-sided', method='pearson')\n",
    "    print(f'{varname}:{res}')\n",
    "    pth = 'param_rev/figs'\n",
    "    os.makedirs(pth, exist_ok = True)\n",
    "    # plot\n",
    "    fig, ax = plt.subplots(figsize = (4,3.5), dpi = 300)\n",
    "    sns.regplot(\n",
    "                x=x, y=y, color=\"indianred\",\n",
    "                line_kws={'color': 'indianred', 'alpha': 0.3, 'zorder': 1},\n",
    "                scatter_kws={'zorder': 1} \n",
    "                )\n",
    "\n",
    "    basic_format(ax, f'real {varname}', f'recovered {varname}')\n",
    "    # plt.savefig(f'{pth}/{varname}.svg', transparent = True, format = 'svg')\n"
   ]
  }
 ],
 "metadata": {
  "kernelspec": {
   "display_name": "Python 3",
   "language": "python",
   "name": "python3"
  },
  "language_info": {
   "codemirror_mode": {
    "name": "ipython",
    "version": 3
   },
   "file_extension": ".py",
   "mimetype": "text/x-python",
   "name": "python",
   "nbconvert_exporter": "python",
   "pygments_lexer": "ipython3",
   "version": "3.11.3"
  }
 },
 "nbformat": 4,
 "nbformat_minor": 2
}
